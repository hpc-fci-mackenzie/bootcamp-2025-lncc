{
 "cells": [
  {
   "cell_type": "markdown",
   "metadata": {},
   "source": [
    "# Desafio 02\n",
    "#### _bootcamp_ da Escola Supercomputador Santos Dumont - 2025\n",
    "por Calebe de Paula Bianchini\n",
    "\n",
    "### Mais um problema de com matrizes: Jacobi!"
   ]
  },
  {
   "cell_type": "markdown",
   "metadata": {},
   "source": [
    "O método iterativo de Jacobi é uma maneira de calcular iterativamente a solução de uma equação diferencial, refinando continuamente a solução até que a resposta tenha convergido para um estado estável ou até que um número fixo de etapas tenha sido concluído, e a resposta seja considerada suficientemente precisa ou não tenha convergido.  \n",
    "\n",
    "O código de exemplo a seguir representa um plano 2D de material que foi dividido em uma grade de células de tamanho igual. À medida que o calor é aplicado ao centro desse plano, a equação de Laplace determina como o calor se transferirá de um ponto da grade para outro ao longo do tempo. Para calcular a temperatura de um determinado ponto da grade na próxima iteração temporal, basta calcular a média das temperaturas dos pontos vizinhos da iteração atual.  \n",
    "\n",
    "Uma vez que o próximo valor para cada ponto da grade é calculado, esses valores tornam-se a temperatura atual, e o cálculo continua. A cada etapa, a variação máxima de temperatura entre todos os pontos da grade determinará se o problema convergiu para um estado estacionário."
   ]
  },
  {
   "cell_type": "markdown",
   "metadata": {},
   "source": [
    "![Jacobi](./img/mpi_jacobi.png)"
   ]
  },
  {
   "cell_type": "code",
   "execution_count": null,
   "metadata": {},
   "outputs": [],
   "source": [
    "%%writefile mpi_jacobi.c\n",
    "\n",
    "/*\n",
    "    This program solves Laplace's equation on a regular 2D grid using simple Jacobi iteration.\n",
    "\n",
    "    The stencil calculation stops when  ( err >= CONV_THRESHOLD OR  iter > ITER_MAX )\n",
    "*/\n",
    "#include <stdio.h>\n",
    "#include <stdlib.h>\n",
    "#include <time.h>\n",
    "#include <sys/time.h>\n",
    "\n",
    "#define CONV_THRESHOLD 1.0e-5f // threshold of convergence\n",
    "\n",
    "// matrix to be solved\n",
    "double **grid;\n",
    "\n",
    "// auxiliary matrix\n",
    "double **new_grid;\n",
    "\n",
    "// size of each side of the grid\n",
    "int size;\n",
    "int iter_max_num;\n",
    "\n",
    "// return the absolute value of a number\n",
    "double absolute(double num)\n",
    "{\n",
    "    if (num < 0)\n",
    "        return -1.0 * num;\n",
    "    return num;\n",
    "}\n",
    "\n",
    "// allocate memory for the grid\n",
    "void allocate_memory()\n",
    "{\n",
    "    grid = (double **)malloc(size * sizeof(double *));\n",
    "    new_grid = (double **)malloc(size * sizeof(double *));\n",
    "\n",
    "    for (int i = 0; i < size; i++)\n",
    "    {\n",
    "        grid[i] = (double *)malloc(size * sizeof(double));\n",
    "        new_grid[i] = (double *)malloc(size * sizeof(double));\n",
    "    }\n",
    "}\n",
    "\n",
    "// initialize the grid\n",
    "void initialize_grid()\n",
    "{\n",
    "    int center = size / 2;\n",
    "    int linf = center - (size / 10);\n",
    "    int lsup = center + (size / 10);\n",
    "    for (int i = 0; i < size; i++)\n",
    "    {\n",
    "        for (int j = 0; j < size; j++)\n",
    "        {\n",
    "            // inicializa região de calor no centro do grid\n",
    "            if (i >= linf && i <= lsup && j >= linf && j <= lsup)\n",
    "                grid[i][j] = 100;\n",
    "            else\n",
    "                grid[i][j] = 0;\n",
    "            new_grid[i][j] = 0.0;\n",
    "        }\n",
    "    }\n",
    "}\n",
    "\n",
    "// save the grid in a file\n",
    "void save_grid()\n",
    "{\n",
    "\n",
    "    for (int i = 0; i < size; i++)\n",
    "    {\n",
    "        for (int j = 0; j < size; j++)\n",
    "        {\n",
    "            fprintf(stdout, \"%lf \", grid[i][j]);\n",
    "        }\n",
    "        fprintf(stdout, \"\\n\");\n",
    "    }\n",
    "}\n",
    "\n",
    "int main(int argc, char *argv[])\n",
    "{\n",
    "\n",
    "    size = 2048;\n",
    "    iter_max_num = 15000;\n",
    "    // retire o comentário abaixo para fazer a leitura do valor\n",
    "    // fscanf(stdin, \"%d\", &size);\n",
    "    // fscanf(stdin, \"%d\", &iter_max_num);\n",
    "\n",
    "    int hasError = 1;\n",
    "    int iter = 0;\n",
    "\n",
    "    struct timeval time_start;\n",
    "    struct timeval time_end;\n",
    "\n",
    "    // allocate memory to the grid (matrix)\n",
    "    allocate_memory();\n",
    "\n",
    "    // set grid initial conditions\n",
    "    initialize_grid();\n",
    "\n",
    "    // Jacobi iteration\n",
    "    // This loop will end if either the maximum change reaches below a set threshold (convergence)\n",
    "    // or a fixed number of maximum iterations have completed\n",
    "    while (hasError && iter < iter_max_num)\n",
    "    {\n",
    "\n",
    "        hasError = 0;\n",
    "        // calculates the Laplace equation to determine each cell's next value\n",
    "        for (int i = 1; i < size - 1; i++)\n",
    "        {\n",
    "            for (int j = 1; j < size - 1; j++)\n",
    "            {\n",
    "\n",
    "                new_grid[i][j] = 0.25 * (grid[i][j + 1] + grid[i][j - 1] +\n",
    "                                         grid[i - 1][j] + grid[i + 1][j]);\n",
    "\n",
    "                double errorCurrent = absolute(new_grid[i][j] - grid[i][j]);\n",
    "                if (errorCurrent > CONV_THRESHOLD)\n",
    "                {\n",
    "                    hasError = 1;\n",
    "                }\n",
    "            }\n",
    "        }\n",
    "        // copie the next values into the working array for the next iteration\n",
    "        for (int i = 1; i < size - 1; i++)\n",
    "        {\n",
    "            for (int j = 1; j < size - 1; j++)\n",
    "            {\n",
    "                grid[i][j] = new_grid[i][j];\n",
    "            }\n",
    "        }\n",
    "        iter++;\n",
    "    }\n",
    "\n",
    "\n",
    "    // save the final grid in file\n",
    "    save_grid();\n",
    "\n",
    "    return 0;\n",
    "}"
   ]
  },
  {
   "cell_type": "markdown",
   "metadata": {},
   "source": [
    "### Você lembra como compilar esse código?"
   ]
  },
  {
   "cell_type": "code",
   "execution_count": null,
   "metadata": {},
   "outputs": [],
   "source": [
    "!gcc ..."
   ]
  },
  {
   "cell_type": "markdown",
   "metadata": {},
   "source": [
    "### Você lembra como executá-lo? E, medir tempo? E, alterar a quantidade de processos?"
   ]
  },
  {
   "cell_type": "code",
   "execution_count": null,
   "metadata": {},
   "outputs": [],
   "source": [
    "!time -p mpirun ...."
   ]
  },
  {
   "cell_type": "markdown",
   "metadata": {},
   "source": [
    "### Perguntas para pensar\n",
    "\n",
    "* o resultado para 1 ou mais processos se manteve o mesmo?\n",
    "* o tempo de execução mudou proporcionalmente ao aumentar a quantidade de processos?\n",
    "* e se alterarmos os valores de entrada (_size_ ou _itern..._), há mudança no que estamos fazendo/pensado em paralelimos?\n",
    "* é possível perceber o impacto da comunicação entre os processos na sua solução?"
   ]
  },
  {
   "cell_type": "markdown",
   "metadata": {},
   "source": [
    "Maiores detalhes sobre Programação Paralela e MPI, vejam:\n",
    "\n",
    "* __Programação Paralela e Distribuída__ _com MPI, OpenMP e OpenACC para computação de alto desempenho_, em [Casa do Código](https://www.casadocodigo.com.br/products/livro-programacao-paralela).\n",
    "\n"
   ]
  }
 ],
 "metadata": {
  "language_info": {
   "name": "python"
  }
 },
 "nbformat": 4,
 "nbformat_minor": 2
}
