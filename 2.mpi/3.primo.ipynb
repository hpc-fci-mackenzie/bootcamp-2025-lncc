{
 "cells": [
  {
   "cell_type": "markdown",
   "metadata": {},
   "source": [
    "# Desafio 01\n",
    "#### _bootcamp_ da Escola Supercomputador Santos Dumont - 2025\n",
    "por Calebe de Paula Bianchini\n",
    "\n",
    "### Vamos voltar verificar se um número é primo?"
   ]
  },
  {
   "cell_type": "markdown",
   "metadata": {},
   "source": [
    "Será que é possível implementar uma versão com MPI da validação doe número primo? Como isso poderia ser feito?"
   ]
  },
  {
   "cell_type": "markdown",
   "metadata": {},
   "source": [
    "Vamos ao código-fonte!"
   ]
  },
  {
   "cell_type": "code",
   "execution_count": null,
   "metadata": {},
   "outputs": [],
   "source": [
    "%%writefile mpi_primo.c\n",
    "\n",
    "#include <stdio.h>\n",
    "#include <stdlib.h>\n",
    "#include <math.h>\n",
    "\n",
    "int primo(long int n)\n",
    "{\n",
    "  long int i;\n",
    "\n",
    "  for (i = 3; i < (int)(sqrt(n) + 1); i += 2)\n",
    "    if (n % i == 0)\n",
    "      return 0;\n",
    "  return 1;\n",
    "}\n",
    "\n",
    "int main(int argc, char *argv[])\n",
    "{\n",
    "  int total = 0;\n",
    "  long int i, n;\n",
    "\n",
    "  n = 7000000;\n",
    "  // remova a linha a seguir para a leitura do número por parâmetro:\n",
    "  // n = strtol(argv[1], (char **)NULL, 10);\n",
    "  for (i = 3; i <= n; i += 2)\n",
    "    if (primo(i) == 1)\n",
    "      total++;\n",
    "  /* Acrescenta o dois, que também é primo */\n",
    "  total += 1;\n",
    "  printf(\"Quant. de primos entre 1 e n: %d \\n\", total);\n",
    "  return (0);\n",
    "}"
   ]
  },
  {
   "cell_type": "markdown",
   "metadata": {},
   "source": [
    "### Você lembra como compilar esse código?"
   ]
  },
  {
   "cell_type": "code",
   "execution_count": null,
   "metadata": {},
   "outputs": [],
   "source": [
    "!mpicc ..."
   ]
  },
  {
   "cell_type": "markdown",
   "metadata": {},
   "source": [
    "### Você lembra como executá-lo? E, medir tempo? E, alterar a quantidade de processos?"
   ]
  },
  {
   "cell_type": "code",
   "execution_count": null,
   "metadata": {},
   "outputs": [],
   "source": [
    "!.... mpirun ..."
   ]
  },
  {
   "cell_type": "markdown",
   "metadata": {},
   "source": [
    "### Perguntas para pensar\n",
    "\n",
    "* o resultado para 1 ou mais processos se manteve o mesmo?\n",
    "* o tempo de execução mudou proporcionalmente ao aumentar a quantidade de processos?\n",
    "* e se alterarmos o número que está sendo verificado - originalmente, _n = 7000000_?\n",
    "* é possível perceber o impacto da comunicação entre os processos na sua solução?"
   ]
  },
  {
   "cell_type": "markdown",
   "metadata": {},
   "source": [
    "Maiores detalhes sobre Programação Paralela e MPI, vejam:\n",
    "\n",
    "* __Programação Paralela e Distribuída__ _com MPI, OpenMP e OpenACC para computação de alto desempenho_, em [Casa do Código](https://www.casadocodigo.com.br/products/livro-programacao-paralela).\n",
    "\n"
   ]
  }
 ],
 "metadata": {
  "kernelspec": {
   "display_name": "Python 3",
   "language": "python",
   "name": "python3"
  },
  "language_info": {
   "name": "python",
   "version": "2.7.18"
  }
 },
 "nbformat": 4,
 "nbformat_minor": 2
}
