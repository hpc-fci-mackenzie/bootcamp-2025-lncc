{
 "cells": [
  {
   "cell_type": "markdown",
   "metadata": {},
   "source": [
    "# Introdução à MPI - Message Passing Interface\n",
    "#### _bootcamp_ da Escola Supercomputador Santos Dumont - 2025\n",
    "por Calebe de Paula Bianchini\n",
    "\n",
    "### Você lembra como funciona MPI?"
   ]
  },
  {
   "cell_type": "markdown",
   "metadata": {},
   "source": [
    "Em MPI, a aplicação será dividida em diversos processos que se comunicarão entre si por meio de primitivas de envio de mensagem. De forma geral, a figura a seguir epresenta a estrutura de um programa MPI."
   ]
  },
  {
   "cell_type": "markdown",
   "metadata": {},
   "source": [
    "![MPI](./img/mpi_estrutura_programa.png)"
   ]
  },
  {
   "cell_type": "markdown",
   "metadata": {},
   "source": [
    "A partir do momento que a aplicação está em funcionamento, diversos processos poderão comunicar-se identificando-se por meio de um **comunicador**. É por meio desse comunicador que são estabelecidos os grupos e o contexto (identificador) de cada processo. Veja a figura a seguir."
   ]
  },
  {
   "cell_type": "markdown",
   "metadata": {},
   "source": [
    "![Comunicador](./img/mpi_comunicador.png)"
   ]
  },
  {
   "cell_type": "markdown",
   "metadata": {},
   "source": [
    "O programa a seguir segue a estrutura definida para um programa MPI, e sua comunicação acontece por meio do comunicador padrão: MPI\\_COMM\\_WORLD."
   ]
  },
  {
   "cell_type": "code",
   "execution_count": null,
   "metadata": {},
   "outputs": [],
   "source": [
    "%%writefile mpi_simples.c\n",
    "\n",
    "#include <stdio.h>\n",
    "#include <string.h>\n",
    "#include \"mpi.h\"\n",
    "\n",
    "int main(int argc, char *argv[]) { /* mpi_simples.c  */\n",
    "int meu_ranque, num_procs;\n",
    "int origem, destino = 0, etiq = 1;\n",
    "char mensagem[200];\n",
    "MPI_Status estado;\n",
    "    /* Chamada inicial para o MPI */\n",
    "    MPI_Init(&argc, &argv);\n",
    "    /* Determina o ranque e número de processos em execução */\n",
    "    MPI_Comm_rank(MPI_COMM_WORLD, &meu_ranque);\n",
    "    MPI_Comm_size(MPI_COMM_WORLD, &num_procs);\n",
    "    /* Todos processos com ranque diferente de 0 enviam uma mensagem */\n",
    "    if (meu_ranque != destino) {\n",
    "        sprintf(mensagem, \"Processo %d está vivo!\", meu_ranque);\n",
    "        MPI_Send(mensagem, strlen(mensagem)+1, MPI_CHAR, destino, etiq, MPI_COMM_WORLD);\n",
    "    } else {\n",
    "    /* Processo com ranque 0 recebe num_procs-1 mensagens */\n",
    "        for (origem = 1; origem < num_procs; origem++) {\n",
    "             MPI_Recv(mensagem, 200, MPI_CHAR, origem, etiq, MPI_COMM_WORLD, &estado);\n",
    "    /* Imprime as mensagens recebidas */\n",
    "             printf(\"%s\\n\",mensagem);\n",
    "        }\n",
    "    }\n",
    "    MPI_Finalize();\n",
    "    return(0);\n",
    "}"
   ]
  },
  {
   "cell_type": "markdown",
   "metadata": {},
   "source": [
    "Para a compilação usando MPI, é necessário fazer a preparação do ambiente. A seguinr apresentamos uma proposta para essa configuração:"
   ]
  },
  {
   "cell_type": "code",
   "execution_count": null,
   "metadata": {},
   "outputs": [],
   "source": [
    "!apt install -yyy openmpi-bin openmpi-common libopenmpi-dev &> /dev/null\n",
    "!gcc --version\n",
    "!mpicc --showme:version"
   ]
  },
  {
   "cell_type": "markdown",
   "metadata": {},
   "source": [
    "E, por fim, uma vez configurado o ambiente, podemos compilar o programa MPI."
   ]
  },
  {
   "cell_type": "code",
   "execution_count": null,
   "metadata": {},
   "outputs": [],
   "source": [
    "!mpicc mpi_simples.c -o mpi_simples -Wall -O3"
   ]
  },
  {
   "cell_type": "markdown",
   "metadata": {},
   "source": [
    "Para a execução de um programa MPI é necessário indicar quantos processos serão criados. Veja o exemplo a seguir:"
   ]
  },
  {
   "cell_type": "code",
   "execution_count": null,
   "metadata": {},
   "outputs": [],
   "source": [
    "!mpirun --allow-run-as-root --host localhost:4 -np 4 ./mpi_simples"
   ]
  }
 ],
 "metadata": {
  "language_info": {
   "name": "python"
  }
 },
 "nbformat": 4,
 "nbformat_minor": 2
}
