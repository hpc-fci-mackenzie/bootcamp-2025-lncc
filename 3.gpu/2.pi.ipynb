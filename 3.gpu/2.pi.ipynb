{
 "cells": [
  {
   "cell_type": "markdown",
   "metadata": {
    "id": "4I07FwHoBaqk"
   },
   "source": [
    "# Programação em GPU com OpenMP Offloading\n",
    "\n",
    "Baseado no material\n",
    "> Programação Paralela Híbrida: MPI + OpenMP Offloading\n",
    ">\n",
    "> Calebe P. Bianchini, Evaldo B. Costa, Gabriel P. Silva\n",
    ">\n",
    "> DOI: https://doi.org/10.5753/sbc.16010.0.3\n",
    "\n",
    "e no repositório oficial do Minicurso:\n",
    "> https://github.com/Programacao-Paralela-e-Distribuida/SSCAD24-MPI-OpenMP/\n",
    "\n",
    "### Setup rápido do ambiente\n",
    "\n",
    "(não esqueça de selecionar um Runtime adequado, com GPU)\n"
   ]
  },
  {
   "cell_type": "code",
   "execution_count": null,
   "metadata": {
    "colab": {
     "base_uri": "https://localhost:8080/"
    },
    "executionInfo": {
     "elapsed": 9012,
     "status": "ok",
     "timestamp": 1729280633463,
     "user": {
      "displayName": "Calebe Bianchini",
      "userId": "11471636135648050191"
     },
     "user_tz": 180
    },
    "id": "5l0RumDHAxyr",
    "outputId": "9431f8aa-bf6f-480c-deed-d48d2aed09ff"
   },
   "outputs": [
    {
     "name": "stdout",
     "output_type": "stream",
     "text": [
      "gcc (Ubuntu 13.1.0-8ubuntu1~22.04) 13.1.0\n",
      "Copyright (C) 2023 Free Software Foundation, Inc.\n",
      "This is free software; see the source for copying conditions.  There is NO\n",
      "warranty; not even for MERCHANTABILITY or FITNESS FOR A PARTICULAR PURPOSE.\n",
      "\n",
      "nvcc: NVIDIA (R) Cuda compiler driver\n",
      "Copyright (c) 2005-2023 NVIDIA Corporation\n",
      "Built on Tue_Aug_15_22:02:13_PDT_2023\n",
      "Cuda compilation tools, release 12.2, V12.2.140\n",
      "Build cuda_12.2.r12.2/compiler.33191640_0\n",
      "Fri Oct 18 19:43:05 2024       \n",
      "+---------------------------------------------------------------------------------------+\n",
      "| NVIDIA-SMI 535.104.05             Driver Version: 535.104.05   CUDA Version: 12.2     |\n",
      "|-----------------------------------------+----------------------+----------------------+\n",
      "| GPU  Name                 Persistence-M | Bus-Id        Disp.A | Volatile Uncorr. ECC |\n",
      "| Fan  Temp   Perf          Pwr:Usage/Cap |         Memory-Usage | GPU-Util  Compute M. |\n",
      "|                                         |                      |               MIG M. |\n",
      "|=========================================+======================+======================|\n",
      "|   0  Tesla T4                       Off | 00000000:00:04.0 Off |                    0 |\n",
      "| N/A   35C    P8               9W /  70W |      0MiB / 15360MiB |      0%      Default |\n",
      "|                                         |                      |                  N/A |\n",
      "+-----------------------------------------+----------------------+----------------------+\n",
      "                                                                                         \n",
      "+---------------------------------------------------------------------------------------+\n",
      "| Processes:                                                                            |\n",
      "|  GPU   GI   CI        PID   Type   Process name                            GPU Memory |\n",
      "|        ID   ID                                                             Usage      |\n",
      "|=======================================================================================|\n",
      "|  No running processes found                                                           |\n",
      "+---------------------------------------------------------------------------------------+\n"
     ]
    }
   ],
   "source": [
    "!add-apt-repository -y ppa:ubuntu-toolchain-r/test &> /dev/null\n",
    "!apt install -y gcc-13 g++-13 gcc-13-offload-nvptx libgomp1 &> /dev/null\n",
    "!ln -sfnv /usr/bin/gcc-13 /usr/bin/gcc &> /dev/null\n",
    "!gcc --version\n",
    "!nvcc --version\n",
    "!nvidia-smi"
   ]
  },
  {
   "cell_type": "markdown",
   "metadata": {
    "id": "3-IHagXTLSnM"
   },
   "source": [
    "## Problema do PI\n",
    "\n",
    "1. Criação do arquivo de código-fonte"
   ]
  },
  {
   "cell_type": "code",
   "execution_count": null,
   "metadata": {
    "colab": {
     "base_uri": "https://localhost:8080/"
    },
    "executionInfo": {
     "elapsed": 459,
     "status": "ok",
     "timestamp": 1729280728228,
     "user": {
      "displayName": "Calebe Bianchini",
      "userId": "11471636135648050191"
     },
     "user_tz": 180
    },
    "id": "svasOPN2F91p",
    "outputId": "c36c49f3-4c5a-4edf-f99c-da69a0e79a15"
   },
   "outputs": [
    {
     "name": "stdout",
     "output_type": "stream",
     "text": [
      "Writing pi.c\n"
     ]
    }
   ],
   "source": [
    "%%writefile pi.c\n",
    "\n",
    "#include <stdio.h>\n",
    "#include <omp.h>\n",
    "#include <math.h>\n",
    "\n",
    "int main() {\n",
    "  long int num_steps = 10000000000; // Número de passos para a integração\n",
    "  double step = 1.0 / (double) num_steps;\n",
    "  double pi = 0.0;\n",
    "  double begin, end;\n",
    "  begin = omp_get_wtime();\n",
    "  #pragma omp target data map(tofrom: pi) map(to:num_steps, step) device(1)// Diretiva para offloading para a GPU\n",
    "  #pragma omp target teams distribute parallel for reduction(+:pi) // Paralelização com OpenMP\n",
    "     for (long int i = 0; i < num_steps; i++) {\n",
    "          double x = (i + 0.5) * step;\n",
    "          pi += 4.0 / (double) (1.0 + x * x);\n",
    "     }\n",
    "  pi *= step;\n",
    "  end = omp_get_wtime();\n",
    "  printf(\"Valor de Pi calculado: %2.15f\\n\", pi);\n",
    "  printf(\"Tempo de execução: %f segundos\\n\", end - begin);\n",
    "  return 0;\n",
    "}"
   ]
  },
  {
   "cell_type": "markdown",
   "metadata": {
    "id": "TPhi1zfrLZgz"
   },
   "source": [
    "2. Compilação e execução"
   ]
  },
  {
   "cell_type": "code",
   "execution_count": null,
   "metadata": {
    "colab": {
     "base_uri": "https://localhost:8080/"
    },
    "executionInfo": {
     "elapsed": 32703,
     "status": "ok",
     "timestamp": 1729280780783,
     "user": {
      "displayName": "Calebe Bianchini",
      "userId": "11471636135648050191"
     },
     "user_tz": 180
    },
    "id": "_sIbeYz8KMdW",
    "outputId": "fd3a991d-e933-43d7-cac5-e723290cc6da"
   },
   "outputs": [
    {
     "name": "stdout",
     "output_type": "stream",
     "text": [
      "Valor de Pi calculado: 3.141592653589563\n",
      "Tempo de execução: 32.103054 segundos\n"
     ]
    }
   ],
   "source": [
    "!gcc -fopenmp -fno-lto -fstack-protector pi.c -o pi\n",
    "!./pi"
   ]
  },
  {
   "cell_type": "markdown",
   "metadata": {
    "id": "yDqhQg2QLbBi"
   },
   "source": [
    "3. Perfilamento"
   ]
  },
  {
   "cell_type": "code",
   "execution_count": null,
   "metadata": {
    "colab": {
     "base_uri": "https://localhost:8080/"
    },
    "executionInfo": {
     "elapsed": 32850,
     "status": "ok",
     "timestamp": 1729280825575,
     "user": {
      "displayName": "Calebe Bianchini",
      "userId": "11471636135648050191"
     },
     "user_tz": 180
    },
    "id": "RvGpKBxEKeIO",
    "outputId": "762c6182-554e-4d26-cda7-72e91f5b6051"
   },
   "outputs": [
    {
     "name": "stdout",
     "output_type": "stream",
     "text": [
      "==7635== NVPROF is profiling process 7635, command: ./pi\n",
      "Valor de Pi calculado: 3.141592653589563\n",
      "Tempo de execução: 31.964028 segundos\n",
      "==7635== Profiling application: ./pi\n",
      "==7635== Profiling result:\n",
      "No kernels were profiled.\n",
      "            Type  Time(%)      Time     Calls       Avg       Min       Max  Name\n",
      "      API calls:   74.06%  94.080ms         1  94.080ms  94.080ms  94.080ms  cuCtxCreate\n",
      "                   25.87%  32.868ms         1  32.868ms  32.868ms  32.868ms  cuCtxDestroy\n",
      "                    0.06%  71.073us        16  4.4420us     153ns  65.610us  cuDeviceGetAttribute\n",
      "                    0.00%  5.5540us         1  5.5540us  5.5540us  5.5540us  cuDeviceGetPCIBusId\n",
      "                    0.00%  4.9520us         1  4.9520us  4.9520us  4.9520us  cuDeviceGetName\n",
      "                    0.00%  4.8550us         2  2.4270us     686ns  4.1690us  cuCtxGetDevice\n",
      "                    0.00%  2.0840us         4     521ns     185ns  1.1200us  cuDeviceGetCount\n",
      "                    0.00%  1.8600us         1  1.8600us  1.8600us  1.8600us  cuInit\n",
      "                    0.00%     733ns         2     366ns     218ns     515ns  cuDeviceGet\n",
      "                    0.00%     584ns         1     584ns     584ns     584ns  cuCtxGetCurrent\n",
      "                    0.00%     181ns         1     181ns     181ns     181ns  cuDriverGetVersion\n"
     ]
    }
   ],
   "source": [
    "!nvprof ./pi"
   ]
  },
  {
   "cell_type": "code",
   "execution_count": null,
   "metadata": {
    "id": "3g2N6-hfKtZu"
   },
   "outputs": [],
   "source": []
  }
 ],
 "metadata": {
  "accelerator": "GPU",
  "colab": {
   "authorship_tag": "ABX9TyMY/ZUGQpu/6ShYp9Degu7t",
   "gpuType": "T4",
   "provenance": []
  },
  "kernelspec": {
   "display_name": "Python 3",
   "name": "python3"
  },
  "language_info": {
   "name": "python"
  }
 },
 "nbformat": 4,
 "nbformat_minor": 0
}
