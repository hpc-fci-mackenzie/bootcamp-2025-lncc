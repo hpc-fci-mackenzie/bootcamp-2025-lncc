{
  "cells": [
    {
      "cell_type": "markdown",
      "metadata": {
        "id": "Ua3LDKpX9c43"
      },
      "source": [
        "# Exemplo do OpenMP\n",
        "#### _bootcamp_ da Escola Supercomputador Santos Dumont - 2025\n",
        "por Calebe de Paula Bianchini\n",
        "\n",
        "### Você lembra do Método do Trapézio?"
      ]
    },
    {
      "cell_type": "markdown",
      "metadata": {
        "id": "VIyh6sQP9c44"
      },
      "source": [
        "![Método do Trapézio](./img/mpi_trapezio.png?raw=1)"
      ]
    },
    {
      "cell_type": "markdown",
      "metadata": {
        "id": "91cLvoUx9c45"
      },
      "source": [
        "O método do trapézio estima o valor de f(x)\n",
        "dividindo o intervalo ${[a; b]}$ em $n$ segmentos iguais e calculando a\n",
        "seguinte equação:\n",
        "\n",
        "$$h * [\\frac{f(x_o)}{2} + \\frac{f(x_n)}{2} + \\displaystyle \\sum_{i=1}^{n-1} f(x_i)]$$\n",
        "\n",
        "Onde:\n",
        "\n",
        "$h =$ $\\frac{(b-a)}{n}$ e $x_i=a + i*h, i = 1,...,(n-1)$\n",
        "\n",
        "E, considerando $f(x)$ como uma função já predefinida, o código\n",
        "a seguir é uma possível versão sequencial para esse cálculo:"
      ]
    },
    {
      "cell_type": "code",
      "execution_count": 1,
      "metadata": {
        "colab": {
          "base_uri": "https://localhost:8080/"
        },
        "id": "SGafNsMd9c45",
        "outputId": "6edb2314-9a14-4514-c8ed-380778abcc62"
      },
      "outputs": [
        {
          "name": "stdout",
          "output_type": "stream",
          "text": [
            "Writing trapezio.c\n"
          ]
        }
      ],
      "source": [
        "%%writefile trapezio.c\n",
        "\n",
        "#include <stdio.h>\n",
        "#include <math.h>\n",
        "\n",
        "/* Calcula f(x). */\n",
        "double f(double x)\n",
        "{\n",
        "  double return_val;\n",
        "  return_val = exp(x);\n",
        "  return return_val;\n",
        "}\n",
        "\n",
        "int main(int argc, char *argv[])\n",
        "{\n",
        "  double integral; /* integral armazena resultado final */\n",
        "  double a, b;     /* a, b -  limite esquerdo e direito da função */\n",
        "  long i, n;       /* n - número de trapezóides */\n",
        "  double x, h;     /* h - largura da base do trapezóide */\n",
        "\n",
        "  a = 0.0;\n",
        "  b = 1.0;\n",
        "  n = 800000000; // -> este e um numero bem grande: 8000000000;\n",
        "  // retire o comentário abaixo para fazer a leitura do valor\n",
        "  // printf(\"Entre a, b, e n \\n\");\n",
        "  // scanf(\"%f %f %d\", &a, &b, &n);\n",
        "  h = (b - a) / n;\n",
        "  integral = (f(a) + f(b)) / 2.0;\n",
        "  x = a;\n",
        "  for (i = 1; i < n; i++) {\n",
        "    x += h;\n",
        "    integral += f(x);\n",
        "  }\n",
        "  integral *= h;\n",
        "  printf(\"Com n = %ld trapezóides, a estimativa \\n\", n);\n",
        "  printf(\"da integral de %lf até %lf = %lf\\n\", a, b, integral);\n",
        "  return (0);\n",
        "}"
      ]
    },
    {
      "cell_type": "markdown",
      "metadata": {
        "id": "GP8Aihgf9c46"
      },
      "source": [
        "Em seguida, compilamos o nosso código:"
      ]
    },
    {
      "cell_type": "code",
      "execution_count": 2,
      "metadata": {
        "id": "c7a4PQgF9c46"
      },
      "outputs": [],
      "source": [
        "!gcc -fopenmp trapezio.c -o trapezio -Wall -lm -O3"
      ]
    },
    {
      "cell_type": "markdown",
      "metadata": {
        "id": "bJeo5cr89c46"
      },
      "source": [
        "Por fim, vamos executar e descobrir quantas _threads_ foram criadas."
      ]
    },
    {
      "cell_type": "code",
      "execution_count": 3,
      "metadata": {
        "colab": {
          "base_uri": "https://localhost:8080/"
        },
        "id": "9tK61Gzy9c46",
        "outputId": "c35f4086-216a-477e-b5ee-924d2021b060"
      },
      "outputs": [
        {
          "name": "stdout",
          "output_type": "stream",
          "text": [
            "Com n = 800000000 trapezóides, a estimativa \n",
            "da integral de 0.000000 até 1.000000 = 1.718282\n",
            "real 18.36\n",
            "user 14.80\n",
            "sys 0.11\n"
          ]
        }
      ],
      "source": [
        "!time -p ./trapezio"
      ]
    },
    {
      "cell_type": "markdown",
      "metadata": {
        "id": "kSx4WE2U9c47"
      },
      "source": [
        "Já podemos perceber, nessa execução, que o tempo gasto na computação desse problema usando 1 CPU é bem alto (quanto maior o valor de _n_, melhor a precisão do resultado, mas muito mais será a compiutação). O que queremos, a partir desse ponto, é utilizar todos os recursos disponíveis no computador para calcular o resultado final.\n",
        "\n",
        "Felizmente, o método do trapézio tem grande potencial de paralelismo. Cada iteração do laço de repetição _for_ pode ser executado de forma independente. Por isso, podemos usar a diretiva __#pragma omp for__. Com isso, cada iteraçào será executada em uma _thread_.\n",
        "\n",
        "Além disso, conhecendo o _tempo_ de computação em cada iteração do laço e sendo eles praticamente iguais, foi feita a escolha de particionamento das iterações pelas _threads_ de forma estática: _static_. Ou seja, a divisão e a atribição de cada iteração para as _threads_ disponíveis no ambiente são feitas antes do início da execução do laço. Portanto, teremos _n/p_ iterações para cada _thread_, onde _p_ é a quantidade de _threads_ disponíveis na região paralela.\n",
        "\n",
        "Por fim, sabendo que o resultado de cada iteração será _reduzido_ em uma única variável final (a famosa variável _acumuladora_), vamos utilizar a cláusula _reduction_ para que todo o controle de sinconização (seção crítica) do acesso à variável seja delegado para o OpenMP.\n",
        "\n",
        "O resutlado desse novo código pode ser visto a seguir:"
      ]
    },
    {
      "cell_type": "code",
      "execution_count": 4,
      "metadata": {
        "colab": {
          "base_uri": "https://localhost:8080/"
        },
        "id": "ZQsKdL3m9c48",
        "outputId": "b2e5c111-67c9-40dd-aec6-30fff2e2027c"
      },
      "outputs": [
        {
          "name": "stdout",
          "output_type": "stream",
          "text": [
            "Writing omp_trapezio.c\n"
          ]
        }
      ],
      "source": [
        "%%writefile omp_trapezio.c\n",
        "\n",
        "#include <stdio.h>\n",
        "#include <math.h>\n",
        "#include <omp.h>\n",
        "\n",
        "double f(double x)\n",
        "{\n",
        "  double valor;\n",
        "  valor = exp(x);\n",
        "  return (valor);\n",
        "}\n",
        "\n",
        "int main(int argc, char *argv[])\n",
        "{\n",
        "  double integral; /* Armazena resultado em integral */\n",
        "  double a, b;     /* Limite esquerdo e direito */\n",
        "  long n;          /* Número de Trapezóides */\n",
        "  double h;        /* Largura da base do Trapezóide */\n",
        "  a = 0.0;\n",
        "  b = 1.0;\n",
        "  n = 800000000; // -> este e um numero bem grande: 8000000000;\n",
        "  // retire o comentário abaixo para fazer a leitura do valor\n",
        "  // printf(\"Entre a, b, e n \\n\");\n",
        "  // scanf(\"%lf %lf %ld\", &a, &b, &n);\n",
        "  h = (b - a) / n;\n",
        "  integral = (f(a) + f(b)) / 2.0;\n",
        "\n",
        "#pragma omp parallel for default(none) firstprivate(n, a, h) reduction(+ : integral) schedule(static)\n",
        "  for (long i = 1; i < n - 1; i++) {\n",
        "    integral += f(a + i * h);\n",
        "  }\n",
        "  integral *= h;\n",
        "\n",
        "  printf(\"Com n = %ld trapezoides, a estimativa \\n\", n);\n",
        "  printf(\"da integral de %lf ate %lf = %lf \\n\", a, b, integral);\n",
        "  printf(\"%d threads.\\n\", omp_get_max_threads());\n",
        "  return (0);\n",
        "}"
      ]
    },
    {
      "cell_type": "markdown",
      "metadata": {
        "id": "oy1b4Lxt9c48"
      },
      "source": [
        "Em seguida compilamos e executamos o programa (com a medição de tempo, novamente):"
      ]
    },
    {
      "cell_type": "code",
      "execution_count": 5,
      "metadata": {
        "colab": {
          "base_uri": "https://localhost:8080/"
        },
        "id": "UtXeHK1C9c48",
        "outputId": "8038c7d7-e474-413f-f5ce-ee8a2159c8d5"
      },
      "outputs": [
        {
          "name": "stdout",
          "output_type": "stream",
          "text": [
            "Com n = 800000000 trapezoides, a estimativa \n",
            "da integral de 0.000000 ate 1.000000 = 1.718282 \n",
            "2 threads.\n",
            "real 10.92\n",
            "user 17.73\n",
            "sys 0.04\n"
          ]
        }
      ],
      "source": [
        "!gcc -fopenmp omp_trapezio.c -o omp_trapezio -Wall -lm -O3\n",
        "!time -p ./omp_trapezio"
      ]
    },
    {
      "cell_type": "markdown",
      "metadata": {},
      "source": [
        "A partir dessa execução, é possível comparar a execução sequencial com a execução paralela para saber, ao menos, o quão mais rápida foi essa nova solução.\n",
        "\n",
        "Por isso, podemos executar diversas vezes cada uma das soluções para que, estatisticamente, tenhamos um conjunto de medições de tempo aceitável. A média dessas execuções pode ser utilizada para avaliar o desempenho da solução.\n",
        "\n",
        "Além disso, ao variar a quantidade de _threads_ (preferencialmente em um equipamento com _muitos cores_), será possível averiguar se aquela quantidade aumentar o desempenho conforme aumentamos a quantidade de _cores_.\n",
        "\n",
        "Com esses números é possível calcular uma métrica chamada de _SpeedUp_. Ela mede a razão entre o tempo gasto para\n",
        "execução de um algoritmo ou aplicação em um único processador ($T(1)$) e\n",
        "o tempo gasto na execução com $P$ processadores ($T(P)$), como visto na\n",
        "equação a seguir:\n",
        "\n",
        "$$S(P) = \\frac{T(1)} {T(P)}$$\n",
        "\n",
        "Em condições ideais, quando o *speedup* é sempre igual a $P$, onde $P$ é\n",
        "o número de processadores em uso, temos o chamado *speedup* linear. Mas,\n",
        "em geral, o *speedup* é menor do que $P$, devido principalmente à\n",
        "sobrecarga de comunicação entre os diferentes fluxos de execução do\n",
        "programa, perdas por sincronização e decomposição de tarefas mal feita.\n",
        "Quando isso acontece, chamamos o *speedup* de sublinear. Essa situação\n",
        "pode se deteriorar até o ponto no qual a adição de mais processadores\n",
        "diminui o ganho obtido, em vez de aumentar, caracterizando um \"retorno\n",
        "negativo\".\n",
        "Estas e outras situações podem ser vistas no exemplo de cruso de _speedup_ a seguir:"
      ]
    },
    {
      "cell_type": "markdown",
      "metadata": {},
      "source": [
        "![Curvas de speedup](./img/teo_speedup.png)"
      ]
    },
    {
      "cell_type": "markdown",
      "metadata": {},
      "source": [
        "No caso do problema do trapézio trapézio, a análise de desempenho registrada na literatura (ver o livro referenciado a seguir) permite confirmar que seu comportamento segue um *speedup* linear ideal. Esse comportamento é esperado para o problema do\n",
        "trapézio, pois o cálculo de cada iteração pode ser realizado de forma\n",
        "independente. Veja o gráfico a seguir.\n",
        "\n",
        "Apesar disso, sabemos que essa solução possui uma fração\n",
        "não paralelizável e, como consequência, esse trecho afeta a\n",
        "escalabilidade."
      ]
    },
    {
      "cell_type": "markdown",
      "metadata": {},
      "source": [
        "![Speedup Trapézio](./img/omp_trapezio_speedup.png)"
      ]
    },
    {
      "cell_type": "markdown",
      "metadata": {
        "id": "wO70Tuk79c49"
      },
      "source": [
        "Maiores detalhes sobre Programação Paralela e OpenMP, vejam:\n",
        "\n",
        "* __Programação Paralela e Distribuída__ _com MPI, OpenMP e OpenACC para computação de alto desempenho_, em [Casa do Código](https://www.casadocodigo.com.br/products/livro-programacao-paralela).\n",
        "\n"
      ]
    }
  ],
  "metadata": {
    "colab": {
      "provenance": []
    },
    "kernelspec": {
      "display_name": "Python 3",
      "name": "python3"
    },
    "language_info": {
      "name": "python"
    }
  },
  "nbformat": 4,
  "nbformat_minor": 0
}
