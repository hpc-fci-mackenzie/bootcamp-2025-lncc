{
 "cells": [
  {
   "cell_type": "markdown",
   "metadata": {},
   "source": [
    "# Exemplo do OpenMP\n",
    "#### _bootcamp_ da Escola Supercomputador Santos Dumont - 2025\n",
    "por Calebe de Paula Bianchini\n",
    "\n",
    "### Você lembra do Método do Trapézio?"
   ]
  },
  {
   "cell_type": "markdown",
   "metadata": {},
   "source": [
    "![Método do Trapézio](./img/mpi_trapezio.png)"
   ]
  },
  {
   "cell_type": "markdown",
   "metadata": {},
   "source": [
    "O método do trapézio estima o valor de f(x)\n",
    "dividindo o intervalo ${[a; b]}$ em $n$ segmentos iguais e calculando a\n",
    "seguinte equação:\n",
    "\n",
    "$$h * [\\frac{f(x_o)}{2} + \\frac{f(x_n)}{2} + \\displaystyle \\sum_{i=1}^{n-1} f(x_i)]$$\n",
    "\n",
    "Onde:\n",
    "\n",
    "$h =$ $\\frac{(b-a)}{n}$ e $x_i=a + i*h, i = 1,...,(n-1)$\n",
    "\n",
    "E, considerando $f(x)$ como uma função já predefinida, o código\n",
    "a seguir é uma possível versão sequencial para esse cálculo:"
   ]
  },
  {
   "cell_type": "code",
   "execution_count": null,
   "metadata": {},
   "outputs": [],
   "source": [
    "%%writefile trapezio.c\n",
    "\n",
    "#include <stdio.h>\n",
    "#include <math.h>\n",
    "\n",
    "/* Calcula f(x). */\n",
    "double f(double x)\n",
    "{\n",
    "  double return_val;\n",
    "  return_val = exp(x);\n",
    "  return return_val;\n",
    "}\n",
    "\n",
    "int main(int argc, char *argv[])\n",
    "{\n",
    "  double integral; /* integral armazena resultado final */\n",
    "  double a, b;     /* a, b -  limite esquerdo e direito da função */\n",
    "  long i, n;       /* n - número de trapezóides */\n",
    "  double x, h;     /* h - largura da base do trapezóide */\n",
    "\n",
    "  a = 0.0;\n",
    "  b = 1.0;\n",
    "  n = 800000000; // -> este e um numero bem grande: 8000000000;\n",
    "  // retire o comentário abaixo para fazer a leitura do valor\n",
    "  // printf(\"Entre a, b, e n \\n\");\n",
    "  // scanf(\"%f %f %d\", &a, &b, &n);\n",
    "  h = (b - a) / n;\n",
    "  integral = (f(a) + f(b)) / 2.0;\n",
    "  x = a;\n",
    "  for (i = 1; i < n; i++) {\n",
    "    x += h;\n",
    "    integral += f(x);\n",
    "  }\n",
    "  integral *= h;\n",
    "  printf(\"Com n = %ld trapezóides, a estimativa \\n\", n);\n",
    "  printf(\"da integral de %lf até %lf = %lf\\n\", a, b, integral);\n",
    "  return (0);\n",
    "}"
   ]
  },
  {
   "cell_type": "markdown",
   "metadata": {},
   "source": [
    "Em seguida, compilamos o nosso código:"
   ]
  },
  {
   "cell_type": "code",
   "execution_count": null,
   "metadata": {},
   "outputs": [],
   "source": [
    "!gcc -fopenmp trapezio.c -o trapezio -Wall -lm"
   ]
  },
  {
   "cell_type": "markdown",
   "metadata": {},
   "source": [
    "Por fim, vamos executar e descobrir quantas _threads_ foram criadas."
   ]
  },
  {
   "cell_type": "code",
   "execution_count": null,
   "metadata": {},
   "outputs": [],
   "source": [
    "!time -p ./trapezio"
   ]
  },
  {
   "cell_type": "markdown",
   "metadata": {},
   "source": [
    "Já podemos perceber, nessa execução, que o tempo gasto na computação desse problema usando 1 CPU é bem alto (quanto maior o valor de _n_, melhor a precisão do resultado, mas muito mais será a compiutação). O que queremos, a partir desse ponto, é utilizar todos os recursos disponíveis no computador para calcular o resultado final.\n",
    "\n",
    "Felizmente, o método do trapézio tem grande potencial de paralelismo. Cada iteração do laço de repetição _for_ pode ser executado de forma independente. Por isso, podemos usar a diretiva __#pragma omp for__. Com isso, cada iteraçào será executada em uma _thread_.\n",
    "\n",
    "Além disso, conhecendo o _tempo_ de computação em cada iteração do laço e sendo eles praticamente iguais, foi feita a escolha de particionamento das iterações pelas _threads_ de forma estática: _static_. Ou seja, a divisão e a atribição de cada iteração para as _threads_ disponíveis no ambiente são feitas antes do início da execução do laço. Portanto, teremos _n/p_ iterações para cada _thread_, onde _p_ é a quantidade de _threads_ disponíveis na região paralela.\n",
    "\n",
    "Por fim, sabendo que o resultado de cada iteração será _reduzido_ em uma única variável final (a famosa variável _acumuladora_), vamos utilizar a cláusula _reduction_ para que todo o controle de sinconização (seção crítica) do acesso à variável seja delegado para o OpenMP.\n",
    "\n",
    "O resutlado desse novo código pode ser visto a seguir:"
   ]
  },
  {
   "cell_type": "code",
   "execution_count": null,
   "metadata": {},
   "outputs": [],
   "source": [
    "%%writefile omp_trapezio.c\n",
    "\n",
    "#include <stdio.h>\n",
    "#include <math.h>\n",
    "#include <omp.h>\n",
    "\n",
    "double f(double x)\n",
    "{\n",
    "  double valor;\n",
    "  valor = exp(x);\n",
    "  return (valor);\n",
    "}\n",
    "\n",
    "int main(int argc, char *argv[])\n",
    "{\n",
    "  double integral; /* Armazena resultado em integral */\n",
    "  double a, b;     /* Limite esquerdo e direito */\n",
    "  long n;          /* Número de Trapezóides */\n",
    "  double h;        /* Largura da base do Trapezóide */\n",
    "  a = 0.0;\n",
    "  b = 1.0;\n",
    "  n = 800000000; // -> este e um numero bem grande: 8000000000;\n",
    "  // retire o comentário abaixo para fazer a leitura do valor\n",
    "  // printf(\"Entre a, b, e n \\n\");\n",
    "  // scanf(\"%lf %lf %ld\", &a, &b, &n);\n",
    "  h = (b - a) / n;\n",
    "  integral = (f(a) + f(b)) / 2.0;\n",
    "\n",
    "#pragma omp parallel for default(none) firstprivate(n, a, h) reduction(+ : integral) schedule(static)\n",
    "  for (long i = 1; i < n - 1; i++) {\n",
    "    integral += f(a + i * h);\n",
    "  }\n",
    "  integral *= h;\n",
    "\n",
    "  printf(\"Com n = %ld trapezoides, a estimativa \\n\", n);\n",
    "  printf(\"da integral de %lf ate %lf = %lf \\n\", a, b, integral);\n",
    "  printf(\"%d threads.\\n\", omp_get_max_threads());\n",
    "  return (0);\n",
    "}"
   ]
  },
  {
   "cell_type": "markdown",
   "metadata": {},
   "source": [
    "Em seguida compilamos e executamos o programa (com a medição de tempo, novamente):"
   ]
  },
  {
   "cell_type": "code",
   "execution_count": null,
   "metadata": {},
   "outputs": [],
   "source": [
    "!gcc -fopenmp omp_trapezio.c -o omp_trapezio -Wall\n",
    "!time -p ./omp_trapezio.c"
   ]
  },
  {
   "cell_type": "markdown",
   "metadata": {},
   "source": [
    "Maiores detalhes sobre Programação Paralela e OpenMP, vejam:\n",
    "\n",
    "* __Programação Paralela e Distribuída__ _com MPI, OpenMP e OpenACC para computação de alto desempenho_, em [Casa do Código](https://www.casadocodigo.com.br/products/livro-programacao-paralela).\n",
    "\n"
   ]
  }
 ],
 "metadata": {
  "language_info": {
   "name": "python"
  }
 },
 "nbformat": 4,
 "nbformat_minor": 2
}
