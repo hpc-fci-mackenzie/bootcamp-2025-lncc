{
 "cells": [
  {
   "cell_type": "markdown",
   "metadata": {},
   "source": [
    "# Desafio 01\n",
    "#### _bootcamp_ da Escola Supercomputador Santos Dumont - 2025\n",
    "por Calebe de Paula Bianchini\n",
    "\n",
    "### Você sabe verificar se um número é primo?"
   ]
  },
  {
   "cell_type": "markdown",
   "metadata": {},
   "source": [
    "Um número natural é primo se ele possui apenas dois divisores positivos e distintos. Ou seja, um número natural é primo se ele é maior que 1 e é divisível apenas por si próprio e por 1.\n",
    "\n",
    "Um exemplo: o número 2. Ele só é divisível por ele mesmo, e por 1 - portanto ele **é** primo!\n",
    "\n",
    "O mesmo vale para 3, 5, 7, 11, 13, 17, 19, 23, 29, 31, 37...\n",
    "\n",
    "Nesta listagem, com exceção do 2, todos os demais números primos são ímpares. Ou seja, isso pode ser aplicável a qualquer número natural existente: se ele for par, ele não é primo; se ele for ímpar, ai sim, precisaremos descobrior. Importante notar que essa definição exclui o 1 como primo!"
   ]
  },
  {
   "cell_type": "markdown",
   "metadata": {},
   "source": [
    "Para determinar se um número inteiro é primo, podemos utilizar a divisão por tentativa. Ou seja, basta dividir o número por todos os primos menores ou iguais à sua raiz quadrada. Na prática, pode-se utilizar todos os números ímpares iguais à raiz quadrada no número.\n",
    "\n",
    "Obviamente, essa estratégia funciona para números pequenos, por exemplo, tendo menos que 25 dígitos. Se ele tiver 200 dígitos (ou mais), então a divisão por tentativa é impossível em um tempo finito - ou seja, o resultado pode demorar um tempo muito grande, próximo ao _infinito_."
   ]
  },
  {
   "cell_type": "markdown",
   "metadata": {},
   "source": [
    "Vamos ao código-fonte sequencial:"
   ]
  },
  {
   "cell_type": "code",
   "execution_count": null,
   "metadata": {},
   "outputs": [],
   "source": [
    "%%writefile primo.c\n",
    "\n",
    "#include <stdio.h>\n",
    "#include <stdlib.h>\n",
    "#include <math.h>\n",
    "\n",
    "int primo(long int n)\n",
    "{\n",
    "  long int i;\n",
    "\n",
    "  for (i = 3; i < (int)(sqrt(n) + 1); i += 2)\n",
    "    if (n % i == 0)\n",
    "      return 0;\n",
    "  return 1;\n",
    "}\n",
    "\n",
    "int main(int argc, char *argv[])\n",
    "{\n",
    "  int total = 0;\n",
    "  long int i, n;\n",
    "\n",
    "  n = 7000000;\n",
    "  // remova a linha a seguir para a leitura do número por parâmetro:\n",
    "  // n = strtol(argv[1], (char **)NULL, 10);\n",
    "  for (i = 3; i <= n; i += 2)\n",
    "    if (primo(i) == 1)\n",
    "      total++;\n",
    "  /* Acrescenta o dois, que também é primo */\n",
    "  total += 1;\n",
    "  printf(\"Quant. de primos entre 1 e n: %d \\n\", total);\n",
    "  return (0);\n",
    "}"
   ]
  },
  {
   "cell_type": "markdown",
   "metadata": {},
   "source": [
    "Compilando e executando, teremos:"
   ]
  },
  {
   "cell_type": "code",
   "execution_count": null,
   "metadata": {},
   "outputs": [],
   "source": [
    "!gcc primo.c -o primo -Wall -lm -O3\n",
    "!time -p ./primo"
   ]
  },
  {
   "cell_type": "markdown",
   "metadata": {},
   "source": [
    "## Desafio: você consegue criar uma solução em OpenMP para esse problema?\n",
    "\n",
    "Dicas:\n",
    "\n",
    "* onde devemos criar a região paralela com o OpenMP\n",
    "  + devemos utilizar alguma outra diretiva nessa regição paralela?\n",
    "* será que cada iteração do laço de repetição pode ser executado de forma independente?\n",
    "* a ordem de execução das iterações altera o resultado final da contagem de números primos?\n",
    "  + Exemplo: se for executado primeiro _i=37_ e, depois, _i=3_, o resultado final da contagem seria o mesmo?\n",
    "* se a variável _total_ está sendo utilizada como acumuladora da contagem, como garantir que ela não seja corrompida?\n",
    "  + no exemplo do trapézio, usamos uma cláusula que controlava a sincronização e seção crítica - talvez, seja esse o caso!"
   ]
  },
  {
   "cell_type": "code",
   "execution_count": null,
   "metadata": {},
   "outputs": [],
   "source": [
    "%%writefile omp_primo.c\n",
    "\n",
    "#include <stdio.h>\n",
    "#include <stdlib.h>\n",
    "#include <math.h>\n",
    "\n",
    "int primo(long int n)\n",
    "{\n",
    "  long int i;\n",
    "\n",
    "  for (i = 3; i < (int)(sqrt(n) + 1); i += 2)\n",
    "    if (n % i == 0)\n",
    "      return 0;\n",
    "  return 1;\n",
    "}\n",
    "\n",
    "int main(int argc, char *argv[])\n",
    "{\n",
    "  int total = 0;\n",
    "  long int i, n;\n",
    "\n",
    "  n = 7000000;\n",
    "  // remova a linha a seguir para a leitura do número por parâmetro:\n",
    "  // n = strtol(argv[1], (char **)NULL, 10);\n",
    "  for (i = 3; i <= n; i += 2)\n",
    "    if (primo(i) == 1)\n",
    "      total++;\n",
    "  /* Acrescenta o dois, que também é primo */\n",
    "  total += 1;\n",
    "  printf(\"Quant. de primos entre 1 e n: %d \\n\", total);\n",
    "  return (0);\n",
    "}"
   ]
  },
  {
   "cell_type": "markdown",
   "metadata": {},
   "source": [
    "### Você lembra como compilar esse código?"
   ]
  },
  {
   "cell_type": "code",
   "execution_count": null,
   "metadata": {},
   "outputs": [],
   "source": [
    "!gcc ..."
   ]
  },
  {
   "cell_type": "markdown",
   "metadata": {},
   "source": [
    "### Você lembra como executá-lo? E, medir tempo? E, alterar a quanitdade de _threads_ que a região paralela pode utilizar?"
   ]
  },
  {
   "cell_type": "code",
   "execution_count": null,
   "metadata": {},
   "outputs": [],
   "source": [
    "!...."
   ]
  },
  {
   "cell_type": "markdown",
   "metadata": {},
   "source": [
    "### Perguntas para pensar\n",
    "\n",
    "* o resultado para 1 ou diversas _threads_ se manteve o mesmo?\n",
    "* o tempo de execução mudou proporcionalmente ao aumentar quantidade de _threads_?\n",
    "* e se alterarmos o número que está sendo verificado - originalmente, _n = 7000000_?"
   ]
  },
  {
   "cell_type": "markdown",
   "metadata": {},
   "source": [
    "Maiores detalhes sobre Programação Paralela e OpenMP, vejam:\n",
    "\n",
    "* __Programação Paralela e Distribuída__ _com MPI, OpenMP e OpenACC para computação de alto desempenho_, em [Casa do Código](https://www.casadocodigo.com.br/products/livro-programacao-paralela).\n",
    "\n"
   ]
  }
 ],
 "metadata": {
  "kernelspec": {
   "display_name": "Python 3",
   "language": "python",
   "name": "python3"
  },
  "language_info": {
   "name": "python",
   "version": "2.7.18"
  }
 },
 "nbformat": 4,
 "nbformat_minor": 2
}
