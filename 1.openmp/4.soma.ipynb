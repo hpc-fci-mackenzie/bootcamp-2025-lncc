{
 "cells": [
  {
   "cell_type": "markdown",
   "metadata": {},
   "source": [
    "# Desafio 02\n",
    "#### _bootcamp_ da Escola Supercomputador Santos Dumont - 2025\n",
    "por Calebe de Paula Bianchini\n",
    "\n",
    "### Você sabe contar?"
   ]
  },
  {
   "cell_type": "markdown",
   "metadata": {},
   "source": [
    "Imagine uma matriz $M \\times N$ tendo em cada posição $A=(a_{ij})$ números inteiros. Condidere também o número $k \\in \\mathbb{Z}$. Existe um problema que é encontrar a quantidade de submatrizes não-vazias que tem como resultado da soma de seus elementos o valor de $k$.\n",
    "\n",
    "Algumas observações:\n",
    "* a matriz pode conter números negativos\n",
    "* uma submatriz é obtida eliminando linhas ou colunas do início ou do final de uma matriz\n",
    "\n",
    "Por exemplo: considere uma matriz $2 \\times 2$:\n",
    "\n",
    "| | |\n",
    "|---|---|\n",
    "| 1 | 0 |\n",
    "| 0 | 1 |\n",
    "\n",
    "\n",
    "O resultado da soma das submatrizes com $k = 1$ é 6.\n",
    "\n",
    "Neste caso, a contagem considerou a $matriz[0][0]$, a $matriz[1][1]$, as duas submatrizes linha ($1 \\times 2$), e as duas submatrizes coluna ($2 \\times 1$).\n",
    "\n",
    "Um outro exemplo: considere a seguinte matriz  $2 \\times 2$:\n",
    "\n",
    "| | |\n",
    "|----|----|\n",
    "| 1  | -1 |\n",
    "| -1 |  1 |\n",
    "\n",
    "Neste caso, para o $k = 0$, o resultado é 5.\n",
    "\n",
    "Mais uma vez, foram contabilizadas as duas submatrizes linha ($1 \\times 2$), e as duas submatrizes coluna ($2 \\times 1$)e a submatriz $2 \\times 2$.\n"
   ]
  },
  {
   "cell_type": "markdown",
   "metadata": {},
   "source": [
    "O código sequencial referente a essa solução pode ser visto a seguir:"
   ]
  },
  {
   "cell_type": "code",
   "execution_count": null,
   "metadata": {},
   "outputs": [],
   "source": [
    "%%writefile soma.cpp\n",
    "\n",
    "#include <bits/stdc++.h>\n",
    "\n",
    "using namespace std;\n",
    "\n",
    "int A[1000][1000];\n",
    "int ps[1010][1010];\n",
    "\n",
    "typedef long long ll;\n",
    "\n",
    "ll solve(int m, int n, int k) {\n",
    "  for (int i = 1; i <= m; i++) {\n",
    "    for (int j = 1; j <= n; j++) {\n",
    "      ps[i][j] = A[i - 1][j - 1] + ps[i][j - 1];\n",
    "    }\n",
    "  }\n",
    "  unordered_map<ll, ll> h;\n",
    "  ll ans = 0;\n",
    "  for (int j = 1; j <= n; j++) // O(m*n^2)\n",
    "    for (int l = j; l <= n; l++) {\n",
    "      h.clear();\n",
    "      h[0] = 1;\n",
    "      ll s = 0;\n",
    "      for (int i = 1; i <= m; i++) {\n",
    "        s += ps[i][l] - ps[i][j - 1];\n",
    "        ans += h.find(s - k) != h.end() ? h[s - k] : 0;\n",
    "        h[s]++;\n",
    "      }\n",
    "    }\n",
    "  return ans;\n",
    "}\n",
    "\n",
    "int main() {\n",
    "  int k, m, n;\n",
    "  cin >> k >> m >> n;\n",
    "  memset(A, 0, sizeof A);\n",
    "  memset(ps, 0, sizeof ps);\n",
    "\n",
    "  for (int i = 0; i < m; i++)\n",
    "    for (int j = 0; j < n; j++)\n",
    "      cin >> A[i][j];\n",
    "\n",
    "  cout << solve(m, n, k) << endl;\n",
    "  return 0;\n",
    "}"
   ]
  },
  {
   "cell_type": "markdown",
   "metadata": {},
   "source": [
    "Compilando e executando, teremos:"
   ]
  },
  {
   "cell_type": "code",
   "execution_count": null,
   "metadata": {},
   "outputs": [],
   "source": [
    "!g++ soma.cpp -o soma -Wall -O3 -std=c++11\n",
    "!time -p ./soma < soma-1.in"
   ]
  },
  {
   "cell_type": "markdown",
   "metadata": {},
   "source": [
    "### Desafio: você consegue gerar uma versão usando OpenMP?\n",
    "\n",
    "Dicas:\n",
    "\n",
    "* onde devemos criar a região paralela com o OpenMP\n",
    "  + devemos utilizar alguma outra diretiva nessa regição paralela?\n",
    "* será que cada iteração do laço de repetição pode ser executado de forma independente?\n",
    "* o código tem, ao menos, 3 laços importantes: com _i_, com _l_ e com _j_ - qual desses desses deve ser analisado?\n",
    "* a ordem de execução das iterações altera o resultado final da contagem de submatrizes?\n",
    "* existe um _map_ nesse código - ele precisa ser controlado?\n",
    "\n",
    "Vamos praticar!"
   ]
  },
  {
   "cell_type": "code",
   "execution_count": null,
   "metadata": {},
   "outputs": [],
   "source": [
    "%%writefile omp_soma.cpp\n",
    "\n",
    "#include <bits/stdc++.h>\n",
    "\n",
    "using namespace std;\n",
    "\n",
    "int A[1000][1000];\n",
    "int ps[1010][1010];\n",
    "\n",
    "typedef long long ll;\n",
    "\n",
    "ll solve(int m, int n, int k) {\n",
    "  for (int i = 1; i <= m; i++) {\n",
    "    for (int j = 1; j <= n; j++) {\n",
    "      ps[i][j] = A[i - 1][j - 1] + ps[i][j - 1];\n",
    "    }\n",
    "  }\n",
    "  unordered_map<ll, ll> h;\n",
    "  ll ans = 0;\n",
    "  for (int j = 1; j <= n; j++) // O(m*n^2)\n",
    "    for (int l = j; l <= n; l++) {\n",
    "      h.clear();\n",
    "      h[0] = 1;\n",
    "      ll s = 0;\n",
    "      for (int i = 1; i <= m; i++) {\n",
    "        s += ps[i][l] - ps[i][j - 1];\n",
    "        ans += h.find(s - k) != h.end() ? h[s - k] : 0;\n",
    "        h[s]++;\n",
    "      }\n",
    "    }\n",
    "  return ans;\n",
    "}\n",
    "\n",
    "int main() {\n",
    "  int k, m, n;\n",
    "  cin >> k >> m >> n;\n",
    "  memset(A, 0, sizeof A);\n",
    "  memset(ps, 0, sizeof ps);\n",
    "\n",
    "  for (int i = 0; i < m; i++)\n",
    "    for (int j = 0; j < n; j++)\n",
    "      cin >> A[i][j];\n",
    "\n",
    "  cout << solve(m, n, k) << endl;\n",
    "  return 0;\n",
    "}"
   ]
  },
  {
   "cell_type": "markdown",
   "metadata": {},
   "source": [
    "Compilando e executando..."
   ]
  },
  {
   "cell_type": "code",
   "execution_count": null,
   "metadata": {},
   "outputs": [],
   "source": [
    "!g++ ..."
   ]
  },
  {
   "cell_type": "code",
   "execution_count": null,
   "metadata": {},
   "outputs": [],
   "source": [
    "!./..."
   ]
  },
  {
   "cell_type": "markdown",
   "metadata": {},
   "source": [
    "### Perguntas para pensar\n",
    "\n",
    "* o resultado para 1 ou mais _threads_ se manteve o mesmo?\n",
    "* o tempo de execução mudou proporcionalmente ao aumentar a quantidade de _threads_?\n",
    "* e se a entrada de dados mudasse para _soma-2.in_? O desempenho ainda seria o mesmo?\n",
    "* E se fosse o _soma-3.in_? Continuaria boa sua solução?"
   ]
  },
  {
   "cell_type": "markdown",
   "metadata": {},
   "source": [
    "Maiores detalhes sobre Programação Paralela e OpenMP, vejam:\n",
    "\n",
    "* __Programação Paralela e Distribuída__ _com MPI, OpenMP e OpenACC para computação de alto desempenho_, em [Casa do Código](https://www.casadocodigo.com.br/products/livro-programacao-paralela).\n",
    "\n"
   ]
  }
 ],
 "metadata": {
  "language_info": {
   "name": "python"
  }
 },
 "nbformat": 4,
 "nbformat_minor": 2
}
