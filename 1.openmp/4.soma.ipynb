{
 "cells": [
  {
   "cell_type": "markdown",
   "metadata": {},
   "source": [
    "# Desafio 02\n",
    "#### _bootcamp_ da Escola Supercomputador Santos Dumont - 2025\n",
    "por Calebe de Paula Bianchini\n",
    "\n",
    "### Você sabe contar?"
   ]
  },
  {
   "cell_type": "markdown",
   "metadata": {},
   "source": [
    "Imagine uma matriz $M \\times N$ tendo em cada posição $A=(a_{ij})$ números inteiros. Condidere também o número $k \\in \\mathbb{Z}$. Existe um problema que é encontrar a quantidade de sub-matrizes não-vazias que tem como resultado da soma de seus elementos o valor de $k$.\n",
    "\n",
    "Algumas observações:\n",
    "* a matriz pode conter números negativos\n",
    "* uma sub-matriz é obtida eliminando linhas ou colunas do início ou do final de uma matriz\n",
    "\n",
    "Por exemplo: considere uma matriz $2 \\times 2$:\n",
    "\n",
    "| | |\n",
    "|---|---|\n",
    "| 1 | 0 |\n",
    "| 0 | 1 |\n",
    "\n",
    "\n",
    "O resultado da soma das sub-matrizes com $k = 1$ é 6.\n",
    "\n",
    "Neste caso, a contagem considerou a $matriz[0][0]$, a $matriz[1][1]$, as duas sub-matrizes linha ($1 \\times 2$), e as duas sub-matrizes coluna ($2 \\times 1$).\n",
    "\n",
    "Um outro exemplo: considere a seguinte matriz  $2 \\times 2$:\n",
    "\n",
    "| | |\n",
    "|----|----|\n",
    "| 1  | -1 |\n",
    "| -1 |  1 |\n",
    "\n",
    "Neste caso, para o $k = 0$, o resultado é 5.\n",
    "\n",
    "Mais uma vez, foram contabilizadas as duas sub-matrizes linha ($1 \\times 2$), e as duas sub-matrizes coluna ($2 \\times 1$)e a sub-matriz $2 \\times 2$.\n"
   ]
  },
  {
   "cell_type": "markdown",
   "metadata": {},
   "source": [
    "O código sequencial referente a essa solução pode ser visto a seguir:"
   ]
  },
  {
   "cell_type": "code",
   "execution_count": null,
   "metadata": {},
   "outputs": [],
   "source": [
    "%%writefile soma.cpp\n",
    "\n",
    "#include <bits/stdc++.h>\n",
    "\n",
    "using namespace std;\n",
    "\n",
    "int A[1000][1000];\n",
    "int ps[1010][1010];\n",
    "\n",
    "typedef long long ll;\n",
    "\n",
    "ll solve(int m, int n, int k) {\n",
    "  for (int i = 1; i <= m; i++) {\n",
    "    for (int j = 1; j <= n; j++) {\n",
    "      ps[i][j] = A[i - 1][j - 1] + ps[i][j - 1];\n",
    "    }\n",
    "  }\n",
    "  unordered_map<ll, ll> h;\n",
    "  ll ans = 0;\n",
    "  for (int j = 1; j <= n; j++) // O(m*n^2)\n",
    "    for (int l = j; l <= n; l++) {\n",
    "      h.clear();\n",
    "      h[0] = 1;\n",
    "      ll s = 0;\n",
    "      for (int i = 1; i <= m; i++) {\n",
    "        s += ps[i][l] - ps[i][j - 1];\n",
    "        ans += h.find(s - k) != h.end() ? h[s - k] : 0;\n",
    "        h[s]++;\n",
    "      }\n",
    "    }\n",
    "  return ans;\n",
    "}\n",
    "\n",
    "int main() {\n",
    "  int k, m, n;\n",
    "  cin >> k >> m >> n;\n",
    "  memset(A, 0, sizeof A);\n",
    "  memset(ps, 0, sizeof ps);\n",
    "\n",
    "  for (int i = 0; i < m; i++)\n",
    "    for (int j = 0; j < n; j++)\n",
    "      cin >> A[i][j];\n",
    "\n",
    "  cout << solve(m, n, k) << endl;\n",
    "  return 0;\n",
    "}"
   ]
  },
  {
   "cell_type": "markdown",
   "metadata": {},
   "source": [
    "Compilando e executando, teremos:"
   ]
  },
  {
   "cell_type": "code",
   "execution_count": null,
   "metadata": {},
   "outputs": [],
   "source": [
    "!g++ soma.cpp -o soma -Wall -O3 -std=c++11\n",
    "!time -p ./soma < soma.in"
   ]
  }
 ],
 "metadata": {
  "language_info": {
   "name": "python"
  }
 },
 "nbformat": 4,
 "nbformat_minor": 2
}
