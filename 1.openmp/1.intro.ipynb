{
 "cells": [
  {
   "cell_type": "markdown",
   "metadata": {},
   "source": [
    "# Introdução à OpenMP\n",
    "#### _bootcamp_ da Escola Supercomputador Santos Dumont - 2025\n",
    "por Calebe de Paula Bianchini\n",
    "\n",
    "### Você lembra como funciona OpenMP?"
   ]
  },
  {
   "cell_type": "markdown",
   "metadata": {},
   "source": [
    "![Threads](./img/omp_threads.png)"
   ]
  },
  {
   "cell_type": "markdown",
   "metadata": {},
   "source": [
    "Na Figura anterior, a execução sequencial (representada pela linha contínua) pode ser dividida em outras _threads_. O próprio OpenMP faz essa divisão. A primeira dessas divisões foi feita na primeira Região Paralela da Figura em 4 _threads_ (numeradas de 1 a 4). Os pontos de divisão e junção desta Região são chamados, respectivamente, de _fork_ e _join_. Esse _fork/join_ acontece em todas as regiões paralelas - repare novamente na Figura."
   ]
  },
  {
   "cell_type": "markdown",
   "metadata": {},
   "source": [
    "No nosso contexto, uma _thread_ é uma unidade básica de computação, com início, meio e fim, que representa a execução de uma sequência de instruções. Se existem 4 _threads_, como na Figura, elas podem ser executadas por CPUs (ou _cores_) de qualquer forma - isso significa que 2 (ou mais) _threads_ podem ser executadas na __mesma__ CPU. Neste caso, obviamente, a CPU terá seu tempo de uso compartilhadao entre essas _threads_ e, consequentemnte, troca de contexto (na Figura a seguir, pode-se ler, ao invés de Processo _Thread_):"
   ]
  },
  {
   "cell_type": "markdown",
   "metadata": {},
   "source": [
    "![troca de contexto](./img/teo_troca_contexto.png)"
   ]
  },
  {
   "cell_type": "markdown",
   "metadata": {},
   "source": [
    "A partir desses conceitos fundamentais de sistemas operacionais, podemos, então entender que o OpenMP é uma poderosa ferramenta que implementa um modelo de programação, fornecendo tanto diretivas desse modelo quanto uam API para o uso de sua biblitoeca, quanto possibilidade de configurações no ambiente de execução de sua aplicação paralela."
   ]
  },
  {
   "cell_type": "markdown",
   "metadata": {},
   "source": [
    "![Camadas OpenMP](./img/omp_camadas.png)"
   ]
  }
 ],
 "metadata": {
  "language_info": {
   "name": "python"
  }
 },
 "nbformat": 4,
 "nbformat_minor": 2
}
