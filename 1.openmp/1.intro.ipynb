{
  "cells": [
    {
      "cell_type": "markdown",
      "metadata": {
        "id": "JuR0Us2dCXkr"
      },
      "source": [
        "# Introdução à OpenMP\n",
        "#### _bootcamp_ da Escola Supercomputador Santos Dumont - 2025\n",
        "por Calebe de Paula Bianchini\n",
        "\n",
        "### Você lembra como funciona OpenMP?"
      ]
    },
    {
      "cell_type": "markdown",
      "metadata": {
        "id": "Ojx_DoQTCXkx"
      },
      "source": [
        "![Threads](./img/omp_threads.png)"
      ]
    },
    {
      "cell_type": "markdown",
      "metadata": {
        "id": "OLrTuwmICXky"
      },
      "source": [
        "Na Figura anterior, a execução sequencial (representada pela linha contínua) pode ser dividida em outras _threads_. O próprio OpenMP faz essa divisão. A primeira dessas divisões foi feita na primeira Região Paralela da Figura em 4 _threads_ (numeradas de 1 a 4). Os pontos de divisão e junção desta Região são chamados, respectivamente, de _fork_ e _join_. Esse _fork/join_ acontece em todas as regiões paralelas - repare novamente na Figura."
      ]
    },
    {
      "cell_type": "markdown",
      "metadata": {
        "id": "YutWWe7WCXkz"
      },
      "source": [
        "No nosso contexto, uma _thread_ é uma unidade básica de computação, com início, meio e fim, que representa a execução de uma sequência de instruções. Se existem 4 _threads_, como na Figura, elas podem ser executadas por CPUs (ou _cores_) de qualquer forma - isso significa que 2 (ou mais) _threads_ podem ser executadas na __mesma__ CPU. Neste caso, obviamente, a CPU terá seu tempo de uso compartilhadao entre essas _threads_ e, consequentemnte, troca de contexto (na Figura a seguir, pode-se ler, ao invés de Processo _Thread_):"
      ]
    },
    {
      "cell_type": "markdown",
      "metadata": {
        "id": "ieb-VierCXk0"
      },
      "source": [
        "![troca de contexto](./img/teo_troca_contexto.png)"
      ]
    },
    {
      "cell_type": "markdown",
      "metadata": {
        "id": "Nx89TMzcCXk1"
      },
      "source": [
        "A partir desses conceitos fundamentais de sistemas operacionais, podemos, então entender que o OpenMP é uma poderosa ferramenta que implementa um modelo de programação, fornecendo tanto diretivas desse modelo quanto uam API para o uso de sua biblitoeca, quanto possibilidade de configurações no ambiente de execução de sua aplicação paralela."
      ]
    },
    {
      "cell_type": "markdown",
      "metadata": {
        "id": "vEtFqLb2CXk3"
      },
      "source": [
        "![Camadas OpenMP](./img/omp_camadas.png)"
      ]
    },
    {
      "cell_type": "markdown",
      "metadata": {
        "id": "GC7v4hPrCXk3"
      },
      "source": [
        "Vamos ver um primeiro exemplo de uso do OpenMP e dos controles das _threads_."
      ]
    },
    {
      "cell_type": "code",
      "execution_count": 1,
      "metadata": {
        "colab": {
          "base_uri": "https://localhost:8080/"
        },
        "id": "Ebp5SF4nCXk4",
        "outputId": "1525bf6d-2945-444b-d946-16c87a118a2f"
      },
      "outputs": [
        {
          "name": "stdout",
          "output_type": "stream",
          "text": [
            "Writing omp_parallel.c\n"
          ]
        }
      ],
      "source": [
        "%%writefile omp_parallel.c\n",
        "\n",
        "#include <stdio.h>\n",
        "#include <omp.h>\n",
        "int main(int argc, char *argv[]){   /*omp_parallel.c */\n",
        "#pragma omp parallel\n",
        "    {\n",
        "    int tid = omp_get_thread_num();\n",
        "    printf (\"Alo da thread %d. \\n\", tid);\n",
        "    }\n",
        "    return 0;\n",
        "}"
      ]
    },
    {
      "cell_type": "markdown",
      "metadata": {
        "id": "g89_bfxkCXk6"
      },
      "source": [
        "Em seguida, compilamos o nosso código:"
      ]
    },
    {
      "cell_type": "code",
      "execution_count": 2,
      "metadata": {
        "id": "bKYtESKwCXk7"
      },
      "outputs": [],
      "source": [
        "!gcc -fopenmp omp_parallel.c -o omp_parallel -Wall"
      ]
    },
    {
      "cell_type": "markdown",
      "metadata": {
        "id": "XCzgk6wfCXk8"
      },
      "source": [
        "Por fim, vamos executar e descobrir quantas _threads_ foram criadas."
      ]
    },
    {
      "cell_type": "code",
      "execution_count": 3,
      "metadata": {
        "colab": {
          "base_uri": "https://localhost:8080/"
        },
        "id": "qU5WKxkrCXk9",
        "outputId": "838ebf47-b7e6-499e-ac70-aae121f96938"
      },
      "outputs": [
        {
          "name": "stdout",
          "output_type": "stream",
          "text": [
            "Alo da thread 1. \n",
            "Alo da thread 0. \n"
          ]
        }
      ],
      "source": [
        "!./omp_parallel"
      ]
    },
    {
      "cell_type": "markdown",
      "metadata": {
        "id": "Pu8RZcSGD5L9"
      },
      "source": [
        "Podemos também controlar a quantidade de _threads_ criadas. A partir do exemplo anterior, e usando o ambiente de execução e avariável de ambiente __OMP\\_NUM\\_THREADS__, podemos definir o total de _threads_ que deve ser usada em uma região paralela:"
      ]
    },
    {
      "cell_type": "code",
      "execution_count": 4,
      "metadata": {
        "colab": {
          "base_uri": "https://localhost:8080/"
        },
        "id": "pr7sP9YpEKnZ",
        "outputId": "211597e4-dad5-4a16-bc2e-665e4176dd43"
      },
      "outputs": [
        {
          "name": "stdout",
          "output_type": "stream",
          "text": [
            "Alo da thread 2. \n",
            "Alo da thread 1. \n",
            "Alo da thread 3. \n",
            "Alo da thread 4. \n",
            "Alo da thread 5. \n",
            "Alo da thread 6. \n",
            "Alo da thread 7. \n",
            "Alo da thread 0. \n"
          ]
        }
      ],
      "source": [
        "!OMP_NUM_THREADS=8 ./omp_parallel"
      ]
    },
    {
      "cell_type": "markdown",
      "metadata": {
        "id": "QGbSDp0AEYmm"
      },
      "source": [
        "Já está claro que a ordem de execução não pode ser garantida, já que cada uma das _threads_ são independentemente uma das outras e sua execução está intimamente ligada ao escalonador (seja do OpenMP, seja do SO)."
      ]
    },
    {
      "cell_type": "markdown",
      "metadata": {
        "id": "Xz5Zu724ErJi"
      },
      "source": [
        "Maiores detalhes sobre Programação Paralela e OpenMP, vejam:\n",
        "\n",
        "* __Programação Paralela e Distribuída__ _com MPI, OpenMP e OpenACC para computação de alto desempenho_, em [Casa do Código](https://www.casadocodigo.com.br/products/livro-programacao-paralela).\n",
        "\n"
      ]
    }
  ],
  "metadata": {
    "colab": {
      "provenance": []
    },
    "kernelspec": {
      "display_name": "Python 3",
      "language": "python",
      "name": "python3"
    },
    "language_info": {
      "name": "python",
      "version": "2.7.18"
    }
  },
  "nbformat": 4,
  "nbformat_minor": 0
}
