{
  "cells": [
    {
      "cell_type": "markdown",
      "metadata": {
        "id": "JuR0Us2dCXkr"
      },
      "source": [
        "# Introdução à OpenMP\n",
        "#### _bootcamp_ da Escola Supercomputador Santos Dumont - 2025\n",
        "por Calebe de Paula Bianchini\n",
        "\n",
        "### Você lembra como funciona OpenMP?"
      ]
    },
    {
      "cell_type": "markdown",
      "metadata": {
        "id": "Ojx_DoQTCXkx"
      },
      "source": [
        "![Threads](https://github.com/hpc-fci-mackenzie/bootcamp-2025-lncc/blob/main/1.openmp/img/omp_threads.png?raw=1)"
      ]
    },
    {
      "cell_type": "markdown",
      "metadata": {
        "id": "OLrTuwmICXky"
      },
      "source": [
        "Na Figura anterior, a execução sequencial (representada pela linha contínua) pode ser dividida em outras _threads_. O próprio OpenMP faz essa divisão. A primeira dessas divisões foi feita na primeira Região Paralela da Figura em 4 _threads_ (numeradas de 1 a 4). Os pontos de divisão e junção desta Região são chamados, respectivamente, de _fork_ e _join_. Esse _fork/join_ acontece em todas as regiões paralelas - repare novamente na Figura."
      ]
    },
    {
      "cell_type": "markdown",
      "metadata": {
        "id": "YutWWe7WCXkz"
      },
      "source": [
        "No nosso contexto, uma _thread_ é uma unidade básica de computação, com início, meio e fim, que representa a execução de uma sequência de instruções. Se existem 4 _threads_, como na Figura, elas podem ser executadas por CPUs (ou _cores_) de qualquer forma - isso significa que 2 (ou mais) _threads_ podem ser executadas na __mesma__ CPU. Neste caso, obviamente, a CPU terá seu tempo de uso compartilhadao entre essas _threads_ e, consequentemnte, troca de contexto (na Figura a seguir, pode-se ler, ao invés de Processo _Thread_):"
      ]
    },
    {
      "cell_type": "markdown",
      "metadata": {
        "id": "ieb-VierCXk0"
      },
      "source": [
        "![troca de contexto](https://github.com/hpc-fci-mackenzie/bootcamp-2025-lncc/blob/main/1.openmp/img/teo_troca_contexto.png?raw=1)"
      ]
    },
    {
      "cell_type": "markdown",
      "metadata": {
        "id": "Nx89TMzcCXk1"
      },
      "source": [
        "A partir desses conceitos fundamentais de sistemas operacionais, podemos, então entender que o OpenMP é uma poderosa ferramenta que implementa um modelo de programação, fornecendo tanto diretivas desse modelo quanto uam API para o uso de sua biblitoeca, quanto possibilidade de configurações no ambiente de execução de sua aplicação paralela."
      ]
    },
    {
      "cell_type": "markdown",
      "metadata": {
        "id": "vEtFqLb2CXk3"
      },
      "source": [
        "![Camadas OpenMP](https://github.com/hpc-fci-mackenzie/bootcamp-2025-lncc/blob/main/1.openmp/img/omp_camadas.png?raw=1)"
      ]
    },
    {
      "cell_type": "markdown",
      "metadata": {
        "id": "GC7v4hPrCXk3"
      },
      "source": [
        "Vamos ver um primeiro exemplo de uso do OpenMP e dos controles das _threads_."
      ]
    },
    {
      "cell_type": "code",
      "execution_count": 1,
      "metadata": {
        "id": "Ebp5SF4nCXk4",
        "outputId": "1525bf6d-2945-444b-d946-16c87a118a2f",
        "colab": {
          "base_uri": "https://localhost:8080/"
        }
      },
      "outputs": [
        {
          "output_type": "stream",
          "name": "stdout",
          "text": [
            "Writing omp_parallel.c\n"
          ]
        }
      ],
      "source": [
        "%%writefile omp_parallel.c\n",
        "\n",
        "#include <stdio.h>\n",
        "#include <omp.h>\n",
        "int main(int argc, char *argv[]){   /*omp_parallel.c */\n",
        "#pragma omp parallel\n",
        "    {\n",
        "    int tid = omp_get_thread_num();\n",
        "    printf (\"Alo da thread %d. \\n\", tid);\n",
        "    }\n",
        "    return 0;\n",
        "}"
      ]
    },
    {
      "cell_type": "markdown",
      "metadata": {
        "id": "g89_bfxkCXk6"
      },
      "source": [
        "Em seguida, compilamos o nosso código:"
      ]
    },
    {
      "cell_type": "code",
      "execution_count": 2,
      "metadata": {
        "id": "bKYtESKwCXk7"
      },
      "outputs": [],
      "source": [
        "!gcc -fopenmp omp_parallel.c -o omp_parallel -Wall"
      ]
    },
    {
      "cell_type": "markdown",
      "metadata": {
        "id": "XCzgk6wfCXk8"
      },
      "source": [
        "Por fim, vamos executar e descobrir quantas _threads_ foram criadas."
      ]
    },
    {
      "cell_type": "code",
      "execution_count": 3,
      "metadata": {
        "id": "qU5WKxkrCXk9",
        "outputId": "838ebf47-b7e6-499e-ac70-aae121f96938",
        "colab": {
          "base_uri": "https://localhost:8080/"
        }
      },
      "outputs": [
        {
          "output_type": "stream",
          "name": "stdout",
          "text": [
            "Alo da thread 1. \n",
            "Alo da thread 0. \n"
          ]
        }
      ],
      "source": [
        "!./omp_parallel"
      ]
    }
  ],
  "metadata": {
    "kernelspec": {
      "display_name": "Python 3",
      "language": "python",
      "name": "python3"
    },
    "language_info": {
      "name": "python",
      "version": "2.7.18"
    },
    "colab": {
      "provenance": []
    }
  },
  "nbformat": 4,
  "nbformat_minor": 0
}